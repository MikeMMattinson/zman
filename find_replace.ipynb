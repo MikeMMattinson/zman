{
 "cells": [
  {
   "cell_type": "code",
   "execution_count": 1,
   "metadata": {},
   "outputs": [],
   "source": [
    "import sys\n",
    "import pandas as pd\n"
   ]
  },
  {
   "cell_type": "code",
   "execution_count": 2,
   "metadata": {},
   "outputs": [
    {
     "name": "stdout",
     "output_type": "stream",
     "text": [
      "hello zach\n"
     ]
    }
   ],
   "source": [
    "print(\"hello zach\")"
   ]
  },
  {
   "cell_type": "code",
   "execution_count": 3,
   "metadata": {},
   "outputs": [
    {
     "name": "stdout",
     "output_type": "stream",
     "text": [
      "          Tactic  Spend\n",
      "Campaign               \n",
      "Campaign1     NB    122\n",
      "Campaign1     NB  13154\n",
      "Campaign1      C  12454\n",
      "Campaign1      C   1212\n",
      "Campaign1     NB     45\n",
      "Campaign1      B    421\n",
      "Campaign1      B     21\n"
     ]
    }
   ],
   "source": [
    "df = pd.read_csv('data\\dataset_sample.csv', index_col=0)\n",
    "print(df)"
   ]
  },
  {
   "cell_type": "code",
   "execution_count": 5,
   "metadata": {},
   "outputs": [
    {
     "name": "stdout",
     "output_type": "stream",
     "text": [
      "    Campaign  Tactic  Spend\n",
      "0  Campaign1  NB & C    122\n",
      "1  Campaign1  NB & C  13154\n",
      "2  Campaign1  NB & C  12454\n",
      "3  Campaign1  NB & C   1212\n",
      "4  Campaign1  NB & C     45\n",
      "5  Campaign1       B    421\n",
      "6  Campaign1       B     21\n"
     ]
    }
   ],
   "source": [
    "\n",
    "df = pd.read_csv(\"data\\dataset_sample.csv\")\n",
    "df = df.replace({'Tactic' : {\n",
    "    'NB' : 'NB & C',\n",
    "    'C' : 'NB & C'\n",
    "    \n",
    "    }})\n",
    "print(df)"
   ]
  }
 ],
 "metadata": {
  "kernelspec": {
   "display_name": ".py39",
   "language": "python",
   "name": "python3"
  },
  "language_info": {
   "codemirror_mode": {
    "name": "ipython",
    "version": 3
   },
   "file_extension": ".py",
   "mimetype": "text/x-python",
   "name": "python",
   "nbconvert_exporter": "python",
   "pygments_lexer": "ipython3",
   "version": "3.9.7"
  },
  "orig_nbformat": 4
 },
 "nbformat": 4,
 "nbformat_minor": 2
}
